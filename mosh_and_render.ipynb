{
 "cells": [
  {
   "attachments": {},
   "cell_type": "markdown",
   "metadata": {},
   "source": [
    "## Using MoSH to fit body models to labeled mocaps\n",
    "\n",
    "We base this off of the two SOMA tutorials: [Run SOMA on SOMA dataset](https://github.com/nghorbani/soma/blob/main/src/tutorials/run_soma_on_soma_dataset.ipynb) and [Solve Already Labeled MoCaps with Mosh++](https://github.com/nghorbani/soma/blob/main/src/tutorials/solve_labeled_mocap.ipynb).\n",
    "\n",
    "Reading the [definitions](https://github.com/nghorbani/soma/tree/main/src/tutorials#definitions) of terminology is recommended.\n",
    "\n",
    "MoSH++ takes in labeled motion capture data and fits an SMPL body model to it. As a note, the original MoSH paper converted the motion capture data to a different body model; we use MoSH/MoSH++ interchangeably, with both referring to the MoSH++.\n",
    "\n",
    "A *labeled* motion capture is simply one that has markers assigned to the point cloud points for each frame. The exact names of the markers is not relevant, just their stability (Is the marker mapped to the same point consistently for each frame)  (TODO: verify this).\n",
    "\n",
    "From the [MoSH paper](https://files.is.tue.mpg.de/black/papers/MoSh.pdf):\n",
    "\n",
    "> Marker placement on the human body varies across subjects and sessions, consequently we do not assume that the exact marker placement is known. Instead, a key contribution of MoSh is that it solves for the observed marker locations relative to the 3D body model.\n",
    "\n",
    "The MoSH algorithm works in two steps:\n",
    "\n",
    "1. Solving for Beta Parameters. A single frame from the sequence is picked, and the SMPL body model is fit to the frame. SMPL models, in their simplest form, have 82 parameters per frame: 23 joints, 3 parameters to represent each joint in 3d space with axis-angle rotation, 3 more parameters to represent the root of the body (global translation), and 10 Beta parameters to characterize the variation of body height, body proportion, and weight. Once these Beta Parameters are solved for, they are fixed, and are used to fit the rest of the frames in the sequence. This process can take 20-30minutes per subject.\n",
    "2. With Betas fixed, MoSH++ fits the SMPL body model frame by frame for the sequence. This process takes ~2 seconds per frame.\n",
    "\n",
    "TODO: cite the paper that has the approximate times for each step.\n",
    "\n",
    "TODO: bring in info about how MoSH uses temporal smoothing for its frame-by-frame fitting.\n"
   ]
  },
  {
   "attachments": {},
   "cell_type": "markdown",
   "metadata": {},
   "source": [
    "### Verify Environment"
   ]
  },
  {
   "cell_type": "code",
   "execution_count": null,
   "metadata": {},
   "outputs": [],
   "source": [
    "# If this doesn't work, something is wrong with the conda environment. Check conda-env.md\n",
    "# Make sure you are using the right kernel\n",
    "import soma\n",
    "import psbody\n",
    "import moshpp"
   ]
  },
  {
   "cell_type": "code",
   "execution_count": null,
   "metadata": {},
   "outputs": [],
   "source": [
    "from glob import glob\n",
    "import os\n",
    "import os.path as osp\n",
    "import time\n",
    "\n",
    "from loguru import logger\n",
    "\n",
    "from soma.amass.mosh_manual import mosh_manual"
   ]
  },
  {
   "attachments": {},
   "cell_type": "markdown",
   "metadata": {},
   "source": [
    "## Running MoSH\n",
    "\n",
    "First, we define the directories we will be using to find our mocaps, and where to store them as well."
   ]
  },
  {
   "cell_type": "code",
   "execution_count": null,
   "metadata": {},
   "outputs": [],
   "source": [
    "soma_work_base_dir = osp.join(os.getcwd(), 'soma-root')\n",
    "support_base_dir = osp.join(soma_work_base_dir, 'support_files')\n",
    "\n",
    "mocap_base_dir = osp.join(support_base_dir, 'evaluation_mocaps/original')\n",
    "\n",
    "work_base_dir = osp.join(soma_work_base_dir, 'running_just_mosh')\n",
    "temp_base_dir = osp.join(support_base_dir, 'render_out_temp')\n",
    "\n",
    "# list each of the dataset folders you want to process with MoSH\n",
    "# Verify that the location of these folders is at TODO: fill this in\n",
    "# For raw, unlabeled mocaps, make sure to run the labeling script first at `label.ipynb`\n",
    "# Run on 'immersion_test' to see sample results on a few mocaps\n",
    "target_ds_names = ['immersion_test',]"
   ]
  },
  {
   "attachments": {},
   "cell_type": "markdown",
   "metadata": {},
   "source": [
    "### View list of Mocaps to MoSH"
   ]
  },
  {
   "cell_type": "code",
   "execution_count": null,
   "metadata": {},
   "outputs": [],
   "source": [
    "def select(fname):\n",
    "    '''\n",
    "    Running MoSH takes time, so a filter can be applied if only a subset of mocaps is needed.\n",
    "    '''\n",
    "    # add filters here if needed\n",
    "    return True"
   ]
  },
  {
   "cell_type": "code",
   "execution_count": null,
   "metadata": {},
   "outputs": [],
   "source": [
    "# List out all filenames we want to MoSH.\n",
    "for ds_name in target_ds_names:\n",
    "    mocap_fnames = glob(osp.join(mocap_base_dir, ds_name,  '*/*.c3d'))\n",
    "\n",
    "    mocap_fnames = list(filter(select, mocap_fnames)) # by default, `select()` does not filter anything\n",
    "    logger.info(f'#mocaps found for {ds_name}: {len(mocap_fnames)}')\n",
    "    logger.info(f'mocaps:\\t{mocap_fnames}...')"
   ]
  },
  {
   "cell_type": "code",
   "execution_count": null,
   "metadata": {},
   "outputs": [],
   "source": [
    "for ds_name in target_ds_names:\n",
    "    mocap_fnames = glob(osp.join(mocap_base_dir, ds_name,  '*/*.c3d'))\n",
    "\n",
    "    mocap_fnames = list(filter(select, mocap_fnames))\n",
    "\n",
    "    logger.info(f'#mocaps found for {ds_name}: {len(mocap_fnames)}')\n",
    "\n",
    "    mosh_manual(\n",
    "        mocap_fnames,\n",
    "        mosh_cfg={\n",
    "            'moshpp.verbosity': 1, # set to 2 to visualize the process in meshviewer\n",
    "            'dirs.work_base_dir': osp.join(work_base_dir, 'mosh_results'),\n",
    "            'dirs.support_base_dir': support_base_dir,\n",
    "            'mosh_stagei_perseq': True,\n",
    "        },\n",
    "        parallel_cfg={\n",
    "            'pool_size': 5,\n",
    "            # 'max_num_jobs': 1,\n",
    "            'randomly_run_jobs': True,\n",
    "        },\n",
    "        run_tasks=[\n",
    "            'mosh',\n",
    "        ],osp.join(os.getcwd(), 'soma-root')\n",
    "        fast_dev_run=False,\n",
    "    )"
   ]
  },
  {
   "attachments": {},
   "cell_type": "markdown",
   "metadata": {},
   "source": [
    "## Rendering outputs\n",
    "\n",
    "After our files have been MoSHed, we can render the output SMPL mesh as an mp4, a series of pngs, and/or a blender file.\n",
    "We repeat a similar process to above, changing the `run_task` to render, as well as defining different configuration variables. We also need to define a `temp_base_dir` to store the intermediate rendering files."
   ]
  },
  {
   "cell_type": "code",
   "execution_count": null,
   "metadata": {},
   "outputs": [],
   "source": [
    "for ds_name in target_ds_names:\n",
    "    mocap_fnames = glob(osp.join(mocap_base_dir, ds_name,  '*/*.c3d'))\n",
    "\n",
    "    mocap_fnames = list(filter(select, mocap_fnames))\n",
    "\n",
    "    logger.info(f'#mocaps found for {ds_name}: {len(mocap_fnames)}')\n",
    "\n",
    "    mosh_manual(\n",
    "        mocap_fnames,\n",
    "        render_cfg={\n",
    "            # 'render.render_only_one_image': True, # uncomment for initial testing of the pipeline\n",
    "            'render.video_fps': 60,  # video_fps * ds_rate should equal the sample fps always\n",
    "            'mesh.ds_rate': 4, # see above\n",
    "            'render.resolution.change_from_blend': True,\n",
    "            'render.resolution.default': [1600, 1600],  # [x,y]\n",
    "            'render.render_engine': 'eevee',  # eevee / cycles,\n",
    "        \n",
    "            'dirs.work_base_dir': osp.join(work_base_dir, 'mp4_renders'),\n",
    "            # 'render.show_markers': True,\n",
    "            'render.save_final_blend_file': True,\n",
    "            'dirs.support_base_dir': support_base_dir,\n",
    "            'dirs.temp_base_dir': temp_base_dir\n",
    "        },\n",
    "        parallel_cfg={\n",
    "            'pool_size': 5,\n",
    "            # 'max_num_jobs': 1,\n",
    "            'randomly_run_jobs': True,\n",
    "        },\n",
    "        run_tasks=[\n",
    "            'render',\n",
    "        ],\n",
    "        fast_dev_run=False,\n",
    "    )"
   ]
  }
 ],
 "metadata": {
  "kernelspec": {
   "display_name": "soma3",
   "language": "python",
   "name": "python3"
  },
  "language_info": {
   "name": "python",
   "version": "3.7.16"
  },
  "orig_nbformat": 4
 },
 "nbformat": 4,
 "nbformat_minor": 2
}
