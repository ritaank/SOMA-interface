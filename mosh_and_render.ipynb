{
 "cells": [
  {
   "attachments": {},
   "cell_type": "markdown",
   "metadata": {},
   "source": [
    "## Using MoSH to fit body models to labeled mocaps\n",
    "\n",
    "We base this off of the two SOMA tutorials: [Run SOMA on SOMA dataset](https://github.com/nghorbani/soma/blob/main/src/tutorials/run_soma_on_soma_dataset.ipynb) and [Solve Already Labeled MoCaps with Mosh++](https://github.com/nghorbani/soma/blob/main/src/tutorials/solve_labeled_mocap.ipynb).\n",
    "\n",
    "Reading the [definitions](https://github.com/nghorbani/soma/tree/main/src/tutorials#definitions) of terminology is recommended.\n",
    "\n",
    "MoSH++ takes in labeled motion capture data and fits an SMPL body model to it. As a note, the original MoSH paper converted the motion capture data to a different body model; we use MoSH/MoSH++ interchangeably, with both referring to the MoSH++.\n",
    "\n",
    "A *labeled* motion capture is simply one that has markers assigned to the point cloud points for each frame. The exact names of the markers is not relevant, just their stability (Is the marker mapped to the same point consistently for each frame)  (TODO: verify this).\n",
    "\n",
    "From the [MoSH paper](https://files.is.tue.mpg.de/black/papers/MoSh.pdf):\n",
    "\n",
    "> Marker placement on the human body varies across subjects and sessions, consequently we do not assume that the exact marker placement is known. Instead, a key contribution of MoSh is that it solves for the observed marker locations relative to the 3D body model.\n",
    "\n",
    "The MoSH algorithm works in two steps:\n",
    "\n",
    "1. Solving for Beta Parameters. A single frame from the sequence is picked, and the SMPL body model is fit to the frame. SMPL models, in their simplest form, have 82 parameters per frame: 23 joints, 3 parameters to represent each joint in 3d space with axis-angle rotation, 3 more parameters to represent the root of the body (global translation), and 10 Beta parameters to characterize the variation of body height, body proportion, and weight. Once these Beta Parameters are solved for, they are fixed, and are used to fit the rest of the frames in the sequence. This process can take 20-30minutes per subject.\n",
    "2. With Betas fixed, MoSH++ fits the SMPL body model frame by frame for the sequence. This process takes ~2 seconds per frame.\n",
    "\n",
    "TODO: cite the paper that has the approximate times for each step.\n",
    "\n",
    "TODO: bring in info about how MoSH uses temporal smoothing for its frame-by-frame fitting.\n"
   ]
  },
  {
   "attachments": {},
   "cell_type": "markdown",
   "metadata": {},
   "source": [
    "### Verify Environment"
   ]
  },
  {
   "cell_type": "code",
   "execution_count": 2,
   "metadata": {},
   "outputs": [],
   "source": [
    "# If this doesn't work, something is wrong with the conda environment. Check conda-env.md\n",
    "# Make sure you are using the right kernel\n",
    "import soma\n",
    "import psbody\n",
    "import moshpp"
   ]
  },
  {
   "cell_type": "code",
   "execution_count": 3,
   "metadata": {},
   "outputs": [],
   "source": [
    "from glob import glob\n",
    "import os\n",
    "import os.path as osp\n",
    "import time\n",
    "\n",
    "from loguru import logger\n",
    "\n",
    "from soma.amass.mosh_manual import mosh_manual"
   ]
  },
  {
   "attachments": {},
   "cell_type": "markdown",
   "metadata": {},
   "source": [
    "## Running MoSH\n",
    "\n",
    "First, we define the directories we will be using to find our mocaps, and where to store them as well.\n",
    "There are two ways to run MoSH: one, on already labeled mocap data, and two, from data that was labeled from SOMA. We will cover both.\n",
    "In this first way, we assume we have a folder of already labeled mocaps, and we simply pass folder(s) into `target_ds_names`. Ensure that each such folder has a `settings.json` with the gender information of the mocap data."
   ]
  },
  {
   "cell_type": "code",
   "execution_count": 4,
   "metadata": {},
   "outputs": [],
   "source": [
    "soma_work_base_dir = osp.join(os.getcwd(), 'soma-root')\n",
    "support_base_dir = osp.join(soma_work_base_dir, 'support_files')\n",
    "\n",
    "mocap_base_dir = osp.join(support_base_dir, 'evaluation_mocaps/original')\n",
    "\n",
    "work_base_dir = osp.join(soma_work_base_dir, 'running_just_mosh')\n",
    "temp_base_dir = osp.join(support_base_dir, 'render_out_temp')\n",
    "\n",
    "# list each of the dataset folders you want to process with MoSH\n",
    "# Verify that the location of these folders is at TODO: fill this in\n",
    "# For raw, unlabeled mocaps, make sure to run the labeling script first at `label.ipynb`\n",
    "# Run on 'immersion_test' to see sample results on a few mocaps\n",
    "target_ds_names = ['SOMA_manual_labeled',]"
   ]
  },
  {
   "attachments": {},
   "cell_type": "markdown",
   "metadata": {},
   "source": [
    "### View list of Mocaps to MoSH\n"
   ]
  },
  {
   "cell_type": "code",
   "execution_count": 5,
   "metadata": {},
   "outputs": [],
   "source": [
    "def select(fname):\n",
    "    '''\n",
    "    Running MoSH takes time, so a filter can be applied if only a subset of mocaps is needed.\n",
    "    '''\n",
    "    # add filters here if needed\n",
    "    return True"
   ]
  },
  {
   "cell_type": "code",
   "execution_count": 9,
   "metadata": {},
   "outputs": [
    {
     "name": "stderr",
     "output_type": "stream",
     "text": [
      "2023-04-10 13:56:56.773 | INFO     | __main__:<module>:6 - #mocaps found for SOMA_manual_labeled: 69\n",
      "2023-04-10 13:56:56.775 | INFO     | __main__:<module>:7 - mocaps:\t['/home/ritaank/Documents/dev/SOMA-interface/soma-root/support_files/evaluation_mocaps/original/SOMA_manual_labeled/soma_subject2/sit_003.c3d', '/home/ritaank/Documents/dev/SOMA-interface/soma-root/support_files/evaluation_mocaps/original/SOMA_manual_labeled/soma_subject2/clap_002.c3d', '/home/ritaank/Documents/dev/SOMA-interface/soma-root/support_files/evaluation_mocaps/original/SOMA_manual_labeled/soma_subject2/squat_002.c3d', '/home/ritaank/Documents/dev/SOMA-interface/soma-root/support_files/evaluation_mocaps/original/SOMA_manual_labeled/soma_subject2/lift_002.c3d', '/home/ritaank/Documents/dev/SOMA-interface/soma-root/support_files/evaluation_mocaps/original/SOMA_manual_labeled/soma_subject2/dance_003.c3d', '/home/ritaank/Documents/dev/SOMA-interface/soma-root/support_files/evaluation_mocaps/original/SOMA_manual_labeled/soma_subject2/run_002.c3d', '/home/ritaank/Documents/dev/SOMA-interface/soma-root/support_files/evaluation_mocaps/original/SOMA_manual_labeled/soma_subject2/dance_002.c3d', '/home/ritaank/Documents/dev/SOMA-interface/soma-root/support_files/evaluation_mocaps/original/SOMA_manual_labeled/soma_subject2/walk_001.c3d', '/home/ritaank/Documents/dev/SOMA-interface/soma-root/support_files/evaluation_mocaps/original/SOMA_manual_labeled/soma_subject2/clap_001.c3d', '/home/ritaank/Documents/dev/SOMA-interface/soma-root/support_files/evaluation_mocaps/original/SOMA_manual_labeled/soma_subject2/throw_003.c3d', '/home/ritaank/Documents/dev/SOMA-interface/soma-root/support_files/evaluation_mocaps/original/SOMA_manual_labeled/soma_subject2/lift_001.c3d', '/home/ritaank/Documents/dev/SOMA-interface/soma-root/support_files/evaluation_mocaps/original/SOMA_manual_labeled/soma_subject2/throw_002.c3d', '/home/ritaank/Documents/dev/SOMA-interface/soma-root/support_files/evaluation_mocaps/original/SOMA_manual_labeled/soma_subject2/jump_002.c3d', '/home/ritaank/Documents/dev/SOMA-interface/soma-root/support_files/evaluation_mocaps/original/SOMA_manual_labeled/soma_subject2/random_001.c3d', '/home/ritaank/Documents/dev/SOMA-interface/soma-root/support_files/evaluation_mocaps/original/SOMA_manual_labeled/soma_subject2/jump_001.c3d', '/home/ritaank/Documents/dev/SOMA-interface/soma-root/support_files/evaluation_mocaps/original/SOMA_manual_labeled/soma_subject2/run_001.c3d', '/home/ritaank/Documents/dev/SOMA-interface/soma-root/support_files/evaluation_mocaps/original/SOMA_manual_labeled/soma_subject2/squat_003.c3d', '/home/ritaank/Documents/dev/SOMA-interface/soma-root/support_files/evaluation_mocaps/original/SOMA_manual_labeled/soma_subject2/sit_001.c3d', '/home/ritaank/Documents/dev/SOMA-interface/soma-root/support_files/evaluation_mocaps/original/SOMA_manual_labeled/soma_subject2/lift_003.c3d', '/home/ritaank/Documents/dev/SOMA-interface/soma-root/support_files/evaluation_mocaps/original/SOMA_manual_labeled/soma_subject2/jump_003.c3d', '/home/ritaank/Documents/dev/SOMA-interface/soma-root/support_files/evaluation_mocaps/original/SOMA_manual_labeled/soma_subject2/clap_003.c3d', '/home/ritaank/Documents/dev/SOMA-interface/soma-root/support_files/evaluation_mocaps/original/SOMA_manual_labeled/soma_subject2/dance_005.c3d', '/home/ritaank/Documents/dev/SOMA-interface/soma-root/support_files/evaluation_mocaps/original/SOMA_manual_labeled/soma_subject2/kick_002.c3d', '/home/ritaank/Documents/dev/SOMA-interface/soma-root/support_files/evaluation_mocaps/original/SOMA_manual_labeled/soma_subject2/walk_002.c3d', '/home/ritaank/Documents/dev/SOMA-interface/soma-root/support_files/evaluation_mocaps/original/SOMA_manual_labeled/soma_subject2/random_003.c3d', '/home/ritaank/Documents/dev/SOMA-interface/soma-root/support_files/evaluation_mocaps/original/SOMA_manual_labeled/soma_subject2/walk_003.c3d', '/home/ritaank/Documents/dev/SOMA-interface/soma-root/support_files/evaluation_mocaps/original/SOMA_manual_labeled/soma_subject2/throw_001.c3d', '/home/ritaank/Documents/dev/SOMA-interface/soma-root/support_files/evaluation_mocaps/original/SOMA_manual_labeled/soma_subject2/sit_002.c3d', '/home/ritaank/Documents/dev/SOMA-interface/soma-root/support_files/evaluation_mocaps/original/SOMA_manual_labeled/soma_subject2/kick_003.c3d', '/home/ritaank/Documents/dev/SOMA-interface/soma-root/support_files/evaluation_mocaps/original/SOMA_manual_labeled/soma_subject2/dance_001.c3d', '/home/ritaank/Documents/dev/SOMA-interface/soma-root/support_files/evaluation_mocaps/original/SOMA_manual_labeled/soma_subject2/kick_001.c3d', '/home/ritaank/Documents/dev/SOMA-interface/soma-root/support_files/evaluation_mocaps/original/SOMA_manual_labeled/soma_subject2/dance_004.c3d', '/home/ritaank/Documents/dev/SOMA-interface/soma-root/support_files/evaluation_mocaps/original/SOMA_manual_labeled/soma_subject2/random_004.c3d', '/home/ritaank/Documents/dev/SOMA-interface/soma-root/support_files/evaluation_mocaps/original/SOMA_manual_labeled/soma_subject2/random_002.c3d', '/home/ritaank/Documents/dev/SOMA-interface/soma-root/support_files/evaluation_mocaps/original/SOMA_manual_labeled/soma_subject2/squat_001.c3d', '/home/ritaank/Documents/dev/SOMA-interface/soma-root/support_files/evaluation_mocaps/original/SOMA_manual_labeled/soma_subject2/run_003.c3d', '/home/ritaank/Documents/dev/SOMA-interface/soma-root/support_files/evaluation_mocaps/original/SOMA_manual_labeled/soma_subject1/sit_003.c3d', '/home/ritaank/Documents/dev/SOMA-interface/soma-root/support_files/evaluation_mocaps/original/SOMA_manual_labeled/soma_subject1/clap_002.c3d', '/home/ritaank/Documents/dev/SOMA-interface/soma-root/support_files/evaluation_mocaps/original/SOMA_manual_labeled/soma_subject1/squat_002.c3d', '/home/ritaank/Documents/dev/SOMA-interface/soma-root/support_files/evaluation_mocaps/original/SOMA_manual_labeled/soma_subject1/lift_002.c3d', '/home/ritaank/Documents/dev/SOMA-interface/soma-root/support_files/evaluation_mocaps/original/SOMA_manual_labeled/soma_subject1/dance_003.c3d', '/home/ritaank/Documents/dev/SOMA-interface/soma-root/support_files/evaluation_mocaps/original/SOMA_manual_labeled/soma_subject1/run_002.c3d', '/home/ritaank/Documents/dev/SOMA-interface/soma-root/support_files/evaluation_mocaps/original/SOMA_manual_labeled/soma_subject1/dance_002.c3d', '/home/ritaank/Documents/dev/SOMA-interface/soma-root/support_files/evaluation_mocaps/original/SOMA_manual_labeled/soma_subject1/walk_001.c3d', '/home/ritaank/Documents/dev/SOMA-interface/soma-root/support_files/evaluation_mocaps/original/SOMA_manual_labeled/soma_subject1/clap_001.c3d', '/home/ritaank/Documents/dev/SOMA-interface/soma-root/support_files/evaluation_mocaps/original/SOMA_manual_labeled/soma_subject1/throw_003.c3d', '/home/ritaank/Documents/dev/SOMA-interface/soma-root/support_files/evaluation_mocaps/original/SOMA_manual_labeled/soma_subject1/lift_001.c3d', '/home/ritaank/Documents/dev/SOMA-interface/soma-root/support_files/evaluation_mocaps/original/SOMA_manual_labeled/soma_subject1/throw_002.c3d', '/home/ritaank/Documents/dev/SOMA-interface/soma-root/support_files/evaluation_mocaps/original/SOMA_manual_labeled/soma_subject1/jump_002.c3d', '/home/ritaank/Documents/dev/SOMA-interface/soma-root/support_files/evaluation_mocaps/original/SOMA_manual_labeled/soma_subject1/random_001.c3d', '/home/ritaank/Documents/dev/SOMA-interface/soma-root/support_files/evaluation_mocaps/original/SOMA_manual_labeled/soma_subject1/jump_001.c3d', '/home/ritaank/Documents/dev/SOMA-interface/soma-root/support_files/evaluation_mocaps/original/SOMA_manual_labeled/soma_subject1/run_001.c3d', '/home/ritaank/Documents/dev/SOMA-interface/soma-root/support_files/evaluation_mocaps/original/SOMA_manual_labeled/soma_subject1/squat_003.c3d', '/home/ritaank/Documents/dev/SOMA-interface/soma-root/support_files/evaluation_mocaps/original/SOMA_manual_labeled/soma_subject1/sit_001.c3d', '/home/ritaank/Documents/dev/SOMA-interface/soma-root/support_files/evaluation_mocaps/original/SOMA_manual_labeled/soma_subject1/lift_003.c3d', '/home/ritaank/Documents/dev/SOMA-interface/soma-root/support_files/evaluation_mocaps/original/SOMA_manual_labeled/soma_subject1/jump_003.c3d', '/home/ritaank/Documents/dev/SOMA-interface/soma-root/support_files/evaluation_mocaps/original/SOMA_manual_labeled/soma_subject1/clap_003.c3d', '/home/ritaank/Documents/dev/SOMA-interface/soma-root/support_files/evaluation_mocaps/original/SOMA_manual_labeled/soma_subject1/kick_002.c3d', '/home/ritaank/Documents/dev/SOMA-interface/soma-root/support_files/evaluation_mocaps/original/SOMA_manual_labeled/soma_subject1/walk_002.c3d', '/home/ritaank/Documents/dev/SOMA-interface/soma-root/support_files/evaluation_mocaps/original/SOMA_manual_labeled/soma_subject1/random_003.c3d', '/home/ritaank/Documents/dev/SOMA-interface/soma-root/support_files/evaluation_mocaps/original/SOMA_manual_labeled/soma_subject1/walk_003.c3d', '/home/ritaank/Documents/dev/SOMA-interface/soma-root/support_files/evaluation_mocaps/original/SOMA_manual_labeled/soma_subject1/throw_001.c3d', '/home/ritaank/Documents/dev/SOMA-interface/soma-root/support_files/evaluation_mocaps/original/SOMA_manual_labeled/soma_subject1/sit_002.c3d', '/home/ritaank/Documents/dev/SOMA-interface/soma-root/support_files/evaluation_mocaps/original/SOMA_manual_labeled/soma_subject1/kick_003.c3d', '/home/ritaank/Documents/dev/SOMA-interface/soma-root/support_files/evaluation_mocaps/original/SOMA_manual_labeled/soma_subject1/dance_001.c3d', '/home/ritaank/Documents/dev/SOMA-interface/soma-root/support_files/evaluation_mocaps/original/SOMA_manual_labeled/soma_subject1/kick_001.c3d', '/home/ritaank/Documents/dev/SOMA-interface/soma-root/support_files/evaluation_mocaps/original/SOMA_manual_labeled/soma_subject1/random_002.c3d', '/home/ritaank/Documents/dev/SOMA-interface/soma-root/support_files/evaluation_mocaps/original/SOMA_manual_labeled/soma_subject1/squat_001.c3d', '/home/ritaank/Documents/dev/SOMA-interface/soma-root/support_files/evaluation_mocaps/original/SOMA_manual_labeled/soma_subject1/run_003.c3d']...\n"
     ]
    }
   ],
   "source": [
    "# List out all filenames we want to MoSH.\n",
    "for ds_name in target_ds_names:\n",
    "    mocap_fnames = glob(osp.join(mocap_base_dir, ds_name,  '*/*.c3d'))\n",
    "\n",
    "    mocap_fnames = list(filter(select, mocap_fnames)) # by default, `select()` does not filter anything\n",
    "    logger.info(f'#mocaps found for {ds_name}: {len(mocap_fnames)}')\n",
    "    logger.info(f'mocaps:\\t{mocap_fnames}...')"
   ]
  },
  {
   "attachments": {},
   "cell_type": "markdown",
   "metadata": {},
   "source": [
    "## Running MoSH (method 2 -- from already labeled SOMA data)\n",
    "Pay special attention to the `mosh_stagei_perseq` variable. If true, EACH mocap will have its body solved independently (30-40 mins per mocap). If false, the body will be solved once, and used for all the data.\n",
    "Set `true` if the data is from different subjects -- or different markerlayouts -- or different sessions. The only time we should do false is for mocap data recorded in the same session, where no markers have moved (or fallen off/re-added in different places). "
   ]
  },
  {
   "cell_type": "code",
   "execution_count": null,
   "metadata": {},
   "outputs": [],
   "source": [
    "for ds_name in target_ds_names:\n",
    "    mocap_fnames = glob(osp.join(mocap_base_dir, ds_name,  '*/*.c3d'))\n",
    "\n",
    "    mocap_fnames = list(filter(select, mocap_fnames))\n",
    "\n",
    "    logger.info(f'#mocaps found for {ds_name}: {len(mocap_fnames)}')\n",
    "\n",
    "    mosh_manual(\n",
    "        mocap_fnames,\n",
    "        mosh_cfg={\n",
    "            'moshpp.verbosity': 1, # set to 2 to visualize the process in meshviewer\n",
    "            'dirs.work_base_dir': osp.join(work_base_dir, 'mosh_results'),\n",
    "            'dirs.support_base_dir': support_base_dir,\n",
    "            'mosh_stagei_perseq': True,\n",
    "        },\n",
    "        parallel_cfg={\n",
    "            'pool_size': 5,\n",
    "            'max_num_jobs': 1,\n",
    "            'randomly_run_jobs': True,\n",
    "        },\n",
    "        run_tasks=[\n",
    "            'mosh',\n",
    "        ],\n",
    "        fast_dev_run=False,\n",
    "    )"
   ]
  },
  {
   "attachments": {},
   "cell_type": "markdown",
   "metadata": {},
   "source": [
    "## Rendering outputs\n",
    "\n",
    "After our files have been MoSHed, we can render the output SMPL mesh as an mp4, a series of pngs, and/or a blender file.\n",
    "We repeat a similar process to above, changing the `run_task` to render, as well as defining different configuration variables. We also need to define a `temp_base_dir` to store the intermediate rendering files."
   ]
  },
  {
   "cell_type": "code",
   "execution_count": 6,
   "metadata": {},
   "outputs": [
    {
     "name": "stderr",
     "output_type": "stream",
     "text": [
      "2023-04-10 20:37:58.386 | INFO     | __main__:<module>:6 - #mocaps found for SOMA_manual_labeled: 69\n",
      "2023-04-10 20:38:08.950 | INFO     | soma.amass.mosh_manual:mosh_manual:116 - Submitting render jobs.\n",
      "2023-04-10 20:38:08.959 | INFO     | soma.tools.parallel_tools:run_parallel_jobs:54 - #Job(s) submitted: 1\n",
      "2023-04-10 20:38:08.960 | INFO     | soma.tools.parallel_tools:run_parallel_jobs:58 - max_num_jobs is set to 2. choosing the first #Job(s): 1\n",
      "2023-04-10 20:38:08.961 | INFO     | soma.tools.parallel_tools:run_parallel_jobs:67 - Will run the jobs in random order.\n",
      "2023-04-10 20:38:09.723 | INFO     | soma.render.parameters_to_mesh:convert_to_mesh_once:67 - Preparing mesh files for: ['/home/ritaank/Documents/dev/SOMA-interface/soma-root/running_just_mosh/mosh_results/SOMA_manual_labeled/soma_subject2/sit_003_stageii.pkl']\n",
      "2023-04-10 20:38:09.728 | INFO     | soma.render.parameters_to_mesh:convert_to_mesh_once:68 - dirs.mesh_out_dir: /home/ritaank/Documents/dev/SOMA-interface/soma-root/support_files/render_out_temp/SOMA_manual_labeled/mesh_files/soma_subject2_sit_003\n",
      "2023-04-10 20:38:44.865 | INFO     | soma.render.parameters_to_mesh:convert_to_mesh_once:214 - Created /home/ritaank/Documents/dev/SOMA-interface/soma-root/support_files/render_out_temp/SOMA_manual_labeled/mesh_files/soma_subject2_sit_003\n",
      "2023-04-10 20:38:44.899 | INFO     | soma.render.blender_tools:setup_scene:78 - Opening scene from provided blend file /home/ritaank/Documents/dev/SOMA-interface/soma-root/support_files/blender/blend_files/soma_standard.blend\n",
      "2023-04-10 20:38:44.914 | INFO     | soma.render.blender_tools:setup_scene:82 - Setting up scene: Scene\n",
      "2023-04-10 20:38:44.919 | DEBUG    | soma.render.mesh_to_video_standard:create_video_from_mesh_dir:147 - input mesh dir: /home/ritaank/Documents/dev/SOMA-interface/soma-root/support_files/render_out_temp/SOMA_manual_labeled/mesh_files/soma_subject2_sit_003\n",
      "2023-04-10 20:38:44.924 | DEBUG    | soma.render.mesh_to_video_standard:create_video_from_mesh_dir:148 - png_out_dir: /home/ritaank/Documents/dev/SOMA-interface/soma-root/support_files/render_out_temp/SOMA_manual_labeled/png_files/soma_standard/soma_subject2_sit_003\n"
     ]
    },
    {
     "name": "stdout",
     "output_type": "stream",
     "text": [
      "Read blend: /home/ritaank/Documents/dev/SOMA-interface/soma-root/support_files/blender/blend_files/soma_standard.blend\n",
      "Info: Deleted 4 object(s)\n",
      "(  0.0000 sec |   0.0000 sec) Importing OBJ '/home/ritaank/Documents/dev/SOMA-interface/soma-root/support_files/render_out_temp/SOMA_manual_labeled/mesh_files/soma_subject2_sit_003/body_mesh/00008.obj'...\n",
      "  (  0.0001 sec |   0.0000 sec) Parsing OBJ file...\n",
      "    (  0.2024 sec |   0.2023 sec) Done, loading materials and images...\n",
      "    (  0.2040 sec |   0.2039 sec) Done, building geometries (verts:10475 faces:20908 materials: 1 smoothgroups:0) ...\n",
      "    (  0.2655 sec |   0.2654 sec) Done.\n",
      "  (  0.2656 sec |   0.2655 sec) Finished importing: '/home/ritaank/Documents/dev/SOMA-interface/soma-root/support_files/render_out_temp/SOMA_manual_labeled/mesh_files/soma_subject2_sit_003/body_mesh/00008.obj'\n",
      "Progress: 100.00%\n",
      "\n"
     ]
    },
    {
     "name": "stderr",
     "output_type": "stream",
     "text": [
      "2023-04-10 20:38:47.168 | SUCCESS  | soma.render.mesh_to_video_standard:run_blender_once:135 - created /home/ritaank/Documents/dev/SOMA-interface/soma-root/support_files/render_out_temp/SOMA_manual_labeled/png_files/soma_standard/soma_subject2_sit_003/00008.png\n"
     ]
    },
    {
     "name": "stdout",
     "output_type": "stream",
     "text": [
      "Info: Saved \"00008.blend\"\n",
      "Info: Deleted 2 object(s)\n",
      "Info: Deleted 0 object(s)\n",
      "(  0.0000 sec |   0.0000 sec) Importing OBJ '/home/ritaank/Documents/dev/SOMA-interface/soma-root/support_files/render_out_temp/SOMA_manual_labeled/mesh_files/soma_subject2_sit_003/body_mesh/00012.obj'...\n",
      "  (  0.0001 sec |   0.0001 sec) Parsing OBJ file...\n",
      "    (  0.1771 sec |   0.1770 sec) Done, loading materials and images...\n",
      "    (  0.1775 sec |   0.1774 sec) Done, building geometries (verts:10475 faces:20908 materials: 1 smoothgroups:0) ...\n",
      "    (  0.2405 sec |   0.2404 sec) Done.\n",
      "  (  0.2407 sec |   0.2407 sec) Finished importing: '/home/ritaank/Documents/dev/SOMA-interface/soma-root/support_files/render_out_temp/SOMA_manual_labeled/mesh_files/soma_subject2_sit_003/body_mesh/00012.obj'\n",
      "Progress: 100.00%\n",
      "\n"
     ]
    },
    {
     "name": "stderr",
     "output_type": "stream",
     "text": [
      "2023-04-10 20:38:48.775 | SUCCESS  | soma.render.mesh_to_video_standard:run_blender_once:135 - created /home/ritaank/Documents/dev/SOMA-interface/soma-root/support_files/render_out_temp/SOMA_manual_labeled/png_files/soma_standard/soma_subject2_sit_003/00012.png\n"
     ]
    },
    {
     "name": "stdout",
     "output_type": "stream",
     "text": [
      "Info: Saved \"00012.blend\"\n",
      "Info: Deleted 2 object(s)\n",
      "Info: Deleted 0 object(s)\n",
      "(  0.0000 sec |   0.0000 sec) Importing OBJ '/home/ritaank/Documents/dev/SOMA-interface/soma-root/support_files/render_out_temp/SOMA_manual_labeled/mesh_files/soma_subject2_sit_003/body_mesh/00016.obj'...\n",
      "  (  0.0001 sec |   0.0001 sec) Parsing OBJ file...\n",
      "    (  0.1944 sec |   0.1942 sec) Done, loading materials and images...\n",
      "    (  0.1953 sec |   0.1952 sec) Done, building geometries (verts:10475 faces:20908 materials: 1 smoothgroups:0) ...\n",
      "    (  0.2591 sec |   0.2589 sec) Done.\n",
      "  (  0.2592 sec |   0.2591 sec) Finished importing: '/home/ritaank/Documents/dev/SOMA-interface/soma-root/support_files/render_out_temp/SOMA_manual_labeled/mesh_files/soma_subject2_sit_003/body_mesh/00016.obj'\n",
      "Progress: 100.00%\n",
      "\n"
     ]
    },
    {
     "name": "stderr",
     "output_type": "stream",
     "text": [
      "2023-04-10 20:38:50.367 | SUCCESS  | soma.render.mesh_to_video_standard:run_blender_once:135 - created /home/ritaank/Documents/dev/SOMA-interface/soma-root/support_files/render_out_temp/SOMA_manual_labeled/png_files/soma_standard/soma_subject2_sit_003/00016.png\n"
     ]
    },
    {
     "name": "stdout",
     "output_type": "stream",
     "text": [
      "Info: Saved \"00016.blend\"\n",
      "Info: Deleted 2 object(s)\n",
      "Info: Deleted 0 object(s)\n",
      "(  0.0000 sec |   0.0000 sec) Importing OBJ '/home/ritaank/Documents/dev/SOMA-interface/soma-root/support_files/render_out_temp/SOMA_manual_labeled/mesh_files/soma_subject2_sit_003/body_mesh/00020.obj'...\n",
      "  (  0.0001 sec |   0.0001 sec) Parsing OBJ file...\n",
      "    (  0.1907 sec |   0.1906 sec) Done, loading materials and images...\n",
      "    (  0.1912 sec |   0.1911 sec) Done, building geometries (verts:10475 faces:20908 materials: 1 smoothgroups:0) ...\n",
      "    (  0.2534 sec |   0.2533 sec) Done.\n",
      "  (  0.2535 sec |   0.2534 sec) Finished importing: '/home/ritaank/Documents/dev/SOMA-interface/soma-root/support_files/render_out_temp/SOMA_manual_labeled/mesh_files/soma_subject2_sit_003/body_mesh/00020.obj'\n",
      "Progress: 100.00%\n",
      "\n"
     ]
    },
    {
     "name": "stderr",
     "output_type": "stream",
     "text": [
      "2023-04-10 20:38:51.961 | SUCCESS  | soma.render.mesh_to_video_standard:run_blender_once:135 - created /home/ritaank/Documents/dev/SOMA-interface/soma-root/support_files/render_out_temp/SOMA_manual_labeled/png_files/soma_standard/soma_subject2_sit_003/00020.png\n"
     ]
    },
    {
     "name": "stdout",
     "output_type": "stream",
     "text": [
      "Info: Saved \"00020.blend\"\n",
      "Info: Deleted 2 object(s)\n",
      "Info: Deleted 0 object(s)\n",
      "(  0.0000 sec |   0.0000 sec) Importing OBJ '/home/ritaank/Documents/dev/SOMA-interface/soma-root/support_files/render_out_temp/SOMA_manual_labeled/mesh_files/soma_subject2_sit_003/body_mesh/00024.obj'...\n",
      "  (  0.0001 sec |   0.0001 sec) Parsing OBJ file...\n",
      "    (  0.1979 sec |   0.1978 sec) Done, loading materials and images...\n",
      "    (  0.1988 sec |   0.1987 sec) Done, building geometries (verts:10475 faces:20908 materials: 1 smoothgroups:0) ...\n",
      "    (  0.2604 sec |   0.2602 sec) Done.\n",
      "  (  0.2605 sec |   0.2604 sec) Finished importing: '/home/ritaank/Documents/dev/SOMA-interface/soma-root/support_files/render_out_temp/SOMA_manual_labeled/mesh_files/soma_subject2_sit_003/body_mesh/00024.obj'\n",
      "Progress: 100.00%\n",
      "\n"
     ]
    },
    {
     "name": "stderr",
     "output_type": "stream",
     "text": [
      "2023-04-10 20:38:53.540 | SUCCESS  | soma.render.mesh_to_video_standard:run_blender_once:135 - created /home/ritaank/Documents/dev/SOMA-interface/soma-root/support_files/render_out_temp/SOMA_manual_labeled/png_files/soma_standard/soma_subject2_sit_003/00024.png\n"
     ]
    },
    {
     "name": "stdout",
     "output_type": "stream",
     "text": [
      "Info: Saved \"00024.blend\"\n",
      "Info: Deleted 2 object(s)\n",
      "Info: Deleted 0 object(s)\n",
      "(  0.0000 sec |   0.0000 sec) Importing OBJ '/home/ritaank/Documents/dev/SOMA-interface/soma-root/support_files/render_out_temp/SOMA_manual_labeled/mesh_files/soma_subject2_sit_003/body_mesh/00028.obj'...\n",
      "  (  0.0001 sec |   0.0001 sec) Parsing OBJ file...\n",
      "    (  0.1842 sec |   0.1841 sec) Done, loading materials and images...\n",
      "    (  0.1846 sec |   0.1845 sec) Done, building geometries (verts:10475 faces:20908 materials: 1 smoothgroups:0) ...\n",
      "    (  0.2474 sec |   0.2473 sec) Done.\n",
      "  (  0.2475 sec |   0.2474 sec) Finished importing: '/home/ritaank/Documents/dev/SOMA-interface/soma-root/support_files/render_out_temp/SOMA_manual_labeled/mesh_files/soma_subject2_sit_003/body_mesh/00028.obj'\n",
      "Progress: 100.00%\n",
      "\n"
     ]
    },
    {
     "name": "stderr",
     "output_type": "stream",
     "text": [
      "2023-04-10 20:38:55.114 | SUCCESS  | soma.render.mesh_to_video_standard:run_blender_once:135 - created /home/ritaank/Documents/dev/SOMA-interface/soma-root/support_files/render_out_temp/SOMA_manual_labeled/png_files/soma_standard/soma_subject2_sit_003/00028.png\n"
     ]
    },
    {
     "name": "stdout",
     "output_type": "stream",
     "text": [
      "Info: Saved \"00028.blend\"\n",
      "Info: Deleted 2 object(s)\n",
      "Info: Deleted 0 object(s)\n",
      "(  0.0000 sec |   0.0000 sec) Importing OBJ '/home/ritaank/Documents/dev/SOMA-interface/soma-root/support_files/render_out_temp/SOMA_manual_labeled/mesh_files/soma_subject2_sit_003/body_mesh/00032.obj'...\n",
      "  (  0.0001 sec |   0.0001 sec) Parsing OBJ file...\n",
      "    (  0.1850 sec |   0.1848 sec) Done, loading materials and images...\n",
      "    (  0.1853 sec |   0.1852 sec) Done, building geometries (verts:10475 faces:20908 materials: 1 smoothgroups:0) ...\n",
      "    (  0.2469 sec |   0.2468 sec) Done.\n",
      "  (  0.2470 sec |   0.2470 sec) Finished importing: '/home/ritaank/Documents/dev/SOMA-interface/soma-root/support_files/render_out_temp/SOMA_manual_labeled/mesh_files/soma_subject2_sit_003/body_mesh/00032.obj'\n",
      "Progress: 100.00%\n",
      "\n"
     ]
    },
    {
     "name": "stderr",
     "output_type": "stream",
     "text": [
      "2023-04-10 20:38:56.665 | SUCCESS  | soma.render.mesh_to_video_standard:run_blender_once:135 - created /home/ritaank/Documents/dev/SOMA-interface/soma-root/support_files/render_out_temp/SOMA_manual_labeled/png_files/soma_standard/soma_subject2_sit_003/00032.png\n"
     ]
    },
    {
     "name": "stdout",
     "output_type": "stream",
     "text": [
      "Info: Saved \"00032.blend\"\n",
      "Info: Deleted 2 object(s)\n",
      "Info: Deleted 0 object(s)\n",
      "(  0.0000 sec |   0.0000 sec) Importing OBJ '/home/ritaank/Documents/dev/SOMA-interface/soma-root/support_files/render_out_temp/SOMA_manual_labeled/mesh_files/soma_subject2_sit_003/body_mesh/00036.obj'...\n",
      "  (  0.0001 sec |   0.0001 sec) Parsing OBJ file...\n",
      "    (  0.1817 sec |   0.1816 sec) Done, loading materials and images...\n",
      "    (  0.1821 sec |   0.1820 sec) Done, building geometries (verts:10475 faces:20908 materials: 1 smoothgroups:0) ...\n",
      "    (  0.2452 sec |   0.2451 sec) Done.\n",
      "  (  0.2453 sec |   0.2453 sec) Finished importing: '/home/ritaank/Documents/dev/SOMA-interface/soma-root/support_files/render_out_temp/SOMA_manual_labeled/mesh_files/soma_subject2_sit_003/body_mesh/00036.obj'\n",
      "Progress: 100.00%\n",
      "\n"
     ]
    },
    {
     "name": "stderr",
     "output_type": "stream",
     "text": [
      "2023-04-10 20:38:58.180 | SUCCESS  | soma.render.mesh_to_video_standard:run_blender_once:135 - created /home/ritaank/Documents/dev/SOMA-interface/soma-root/support_files/render_out_temp/SOMA_manual_labeled/png_files/soma_standard/soma_subject2_sit_003/00036.png\n"
     ]
    },
    {
     "name": "stdout",
     "output_type": "stream",
     "text": [
      "Info: Saved \"00036.blend\"\n",
      "Info: Deleted 2 object(s)\n",
      "Info: Deleted 0 object(s)\n",
      "(  0.0000 sec |   0.0000 sec) Importing OBJ '/home/ritaank/Documents/dev/SOMA-interface/soma-root/support_files/render_out_temp/SOMA_manual_labeled/mesh_files/soma_subject2_sit_003/body_mesh/00040.obj'...\n",
      "  (  0.0001 sec |   0.0001 sec) Parsing OBJ file...\n",
      "    (  0.2957 sec |   0.2955 sec) Done, loading materials and images...\n",
      "    (  0.2963 sec |   0.2962 sec) Done, building geometries (verts:10475 faces:20908 materials: 1 smoothgroups:0) ...\n",
      "    (  0.3595 sec |   0.3594 sec) Done.\n",
      "  (  0.3596 sec |   0.3595 sec) Finished importing: '/home/ritaank/Documents/dev/SOMA-interface/soma-root/support_files/render_out_temp/SOMA_manual_labeled/mesh_files/soma_subject2_sit_003/body_mesh/00040.obj'\n",
      "Progress: 100.00%\n",
      "\n"
     ]
    },
    {
     "name": "stderr",
     "output_type": "stream",
     "text": [
      "2023-04-10 20:38:59.859 | SUCCESS  | soma.render.mesh_to_video_standard:run_blender_once:135 - created /home/ritaank/Documents/dev/SOMA-interface/soma-root/support_files/render_out_temp/SOMA_manual_labeled/png_files/soma_standard/soma_subject2_sit_003/00040.png\n"
     ]
    },
    {
     "name": "stdout",
     "output_type": "stream",
     "text": [
      "Info: Saved \"00040.blend\"\n",
      "Info: Deleted 2 object(s)\n",
      "Info: Deleted 0 object(s)\n",
      "(  0.0000 sec |   0.0000 sec) Importing OBJ '/home/ritaank/Documents/dev/SOMA-interface/soma-root/support_files/render_out_temp/SOMA_manual_labeled/mesh_files/soma_subject2_sit_003/body_mesh/00044.obj'...\n",
      "  (  0.0001 sec |   0.0000 sec) Parsing OBJ file...\n",
      "    (  0.0763 sec |   0.0762 sec) Done, loading materials and images...\n",
      "    (  0.0767 sec |   0.0766 sec) Done, building geometries (verts:10475 faces:20908 materials: 1 smoothgroups:0) ...\n",
      "    (  0.1364 sec |   0.1363 sec) Done.\n",
      "  (  0.1365 sec |   0.1365 sec) Finished importing: '/home/ritaank/Documents/dev/SOMA-interface/soma-root/support_files/render_out_temp/SOMA_manual_labeled/mesh_files/soma_subject2_sit_003/body_mesh/00044.obj'\n",
      "Progress: 100.00%\n",
      "\n"
     ]
    },
    {
     "name": "stderr",
     "output_type": "stream",
     "text": [
      "2023-04-10 20:39:01.301 | SUCCESS  | soma.render.mesh_to_video_standard:run_blender_once:135 - created /home/ritaank/Documents/dev/SOMA-interface/soma-root/support_files/render_out_temp/SOMA_manual_labeled/png_files/soma_standard/soma_subject2_sit_003/00044.png\n"
     ]
    },
    {
     "name": "stdout",
     "output_type": "stream",
     "text": [
      "Info: Saved \"00044.blend\"\n",
      "Info: Deleted 2 object(s)\n",
      "Info: Deleted 0 object(s)\n",
      "(  0.0000 sec |   0.0000 sec) Importing OBJ '/home/ritaank/Documents/dev/SOMA-interface/soma-root/support_files/render_out_temp/SOMA_manual_labeled/mesh_files/soma_subject2_sit_003/body_mesh/00048.obj'...\n",
      "  (  0.0001 sec |   0.0001 sec) Parsing OBJ file...\n",
      "    (  0.2885 sec |   0.2884 sec) Done, loading materials and images...\n",
      "    (  0.2891 sec |   0.2890 sec) Done, building geometries (verts:10475 faces:20908 materials: 1 smoothgroups:0) ...\n",
      "    (  0.3528 sec |   0.3527 sec) Done.\n",
      "  (  0.3529 sec |   0.3529 sec) Finished importing: '/home/ritaank/Documents/dev/SOMA-interface/soma-root/support_files/render_out_temp/SOMA_manual_labeled/mesh_files/soma_subject2_sit_003/body_mesh/00048.obj'\n",
      "Progress: 100.00%\n",
      "\n"
     ]
    },
    {
     "name": "stderr",
     "output_type": "stream",
     "text": [
      "2023-04-10 20:39:02.983 | SUCCESS  | soma.render.mesh_to_video_standard:run_blender_once:135 - created /home/ritaank/Documents/dev/SOMA-interface/soma-root/support_files/render_out_temp/SOMA_manual_labeled/png_files/soma_standard/soma_subject2_sit_003/00048.png\n"
     ]
    },
    {
     "name": "stdout",
     "output_type": "stream",
     "text": [
      "Info: Saved \"00048.blend\"\n",
      "Info: Deleted 2 object(s)\n",
      "Info: Deleted 0 object(s)\n",
      "(  0.0000 sec |   0.0000 sec) Importing OBJ '/home/ritaank/Documents/dev/SOMA-interface/soma-root/support_files/render_out_temp/SOMA_manual_labeled/mesh_files/soma_subject2_sit_003/body_mesh/00052.obj'...\n",
      "  (  0.0001 sec |   0.0001 sec) Parsing OBJ file...\n",
      "    (  0.1960 sec |   0.1958 sec) Done, loading materials and images...\n",
      "    (  0.1966 sec |   0.1964 sec) Done, building geometries (verts:10475 faces:20908 materials: 1 smoothgroups:0) ...\n",
      "    (  0.2599 sec |   0.2598 sec) Done.\n",
      "  (  0.2600 sec |   0.2600 sec) Finished importing: '/home/ritaank/Documents/dev/SOMA-interface/soma-root/support_files/render_out_temp/SOMA_manual_labeled/mesh_files/soma_subject2_sit_003/body_mesh/00052.obj'\n",
      "Progress: 100.00%\n",
      "\n"
     ]
    },
    {
     "name": "stderr",
     "output_type": "stream",
     "text": [
      "2023-04-10 20:39:04.556 | SUCCESS  | soma.render.mesh_to_video_standard:run_blender_once:135 - created /home/ritaank/Documents/dev/SOMA-interface/soma-root/support_files/render_out_temp/SOMA_manual_labeled/png_files/soma_standard/soma_subject2_sit_003/00052.png\n"
     ]
    },
    {
     "name": "stdout",
     "output_type": "stream",
     "text": [
      "Info: Saved \"00052.blend\"\n",
      "Info: Deleted 2 object(s)\n"
     ]
    },
    {
     "ename": "",
     "evalue": "",
     "output_type": "error",
     "traceback": [
      "\u001b[1;31mCanceled future for execute_request message before replies were done"
     ]
    },
    {
     "ename": "",
     "evalue": "",
     "output_type": "error",
     "traceback": [
      "\u001b[1;31mThe Kernel crashed while executing code in the the current cell or a previous cell. Please review the code in the cell(s) to identify a possible cause of the failure. Click <a href='https://aka.ms/vscodeJupyterKernelCrash'>here</a> for more info. View Jupyter <a href='command:jupyter.viewOutput'>log</a> for further details."
     ]
    }
   ],
   "source": [
    "for ds_name in target_ds_names:\n",
    "    mocap_fnames = glob(osp.join(mocap_base_dir, ds_name,  '*/*.c3d'))\n",
    "\n",
    "    mocap_fnames = list(filter(select, mocap_fnames))\n",
    "\n",
    "    logger.info(f'#mocaps found for {ds_name}: {len(mocap_fnames)}')\n",
    "\n",
    "    mosh_manual(\n",
    "        mocap_fnames,\n",
    "        mosh_cfg={\n",
    "            # 'moshpp.verbosity': 1, # set to 2 to visualize the process in meshviewer\n",
    "            'dirs.work_base_dir': osp.join(work_base_dir, 'mosh_results'),\n",
    "            'dirs.support_base_dir': support_base_dir,\n",
    "            # 'mosh_stagei_perseq': True,\n",
    "        },\n",
    "        render_cfg={\n",
    "            # 'render.render_only_one_image': True, # uncomment for initial testing of the pipeline\n",
    "            'render.video_fps': 60,  # video_fps * ds_rate should equal the sample fps always\n",
    "            'mesh.ds_rate': 4, # see above\n",
    "            'render.resolution.change_from_blend': True,\n",
    "            'render.resolution.default': [1600, 1600],  # [x,y]\n",
    "            'render.render_engine': 'eevee',  # eevee / cycles,\n",
    "        \n",
    "            'dirs.work_base_dir': osp.join(work_base_dir, 'mp4_renders'),\n",
    "            # 'render.show_markers': True,\n",
    "            'render.save_final_blend_file': True,\n",
    "            'dirs.support_base_dir': support_base_dir,\n",
    "            'dirs.temp_base_dir': temp_base_dir\n",
    "        },\n",
    "        parallel_cfg={\n",
    "            'pool_size': 5,\n",
    "            'max_num_jobs': 2,\n",
    "            'randomly_run_jobs': True,\n",
    "        },\n",
    "        run_tasks=[\n",
    "            'render',\n",
    "        ],\n",
    "        fast_dev_run=False,\n",
    "    )"
   ]
  },
  {
   "cell_type": "code",
   "execution_count": null,
   "metadata": {},
   "outputs": [],
   "source": []
  }
 ],
 "metadata": {
  "kernelspec": {
   "display_name": "soma3",
   "language": "python",
   "name": "python3"
  },
  "language_info": {
   "codemirror_mode": {
    "name": "ipython",
    "version": 3
   },
   "file_extension": ".py",
   "mimetype": "text/x-python",
   "name": "python",
   "nbconvert_exporter": "python",
   "pygments_lexer": "ipython3",
   "version": "3.7.16"
  },
  "orig_nbformat": 4
 },
 "nbformat": 4,
 "nbformat_minor": 2
}
