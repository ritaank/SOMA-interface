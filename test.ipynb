{
 "cells": [
  {
   "cell_type": "code",
   "execution_count": 17,
   "metadata": {},
   "outputs": [],
   "source": [
    "# file = '/mnt/S/2202000565 - Fencing/data_fsp01/20220708_01_002/ot/se002_EnGarde_002.c3d'\n",
    "file = '/mnt/S/2202000565 - Fencing/data_fsp01/20220701_01_001/ot/se001_EnGarde_001.c3d'\n",
    "import ezc3d"
   ]
  },
  {
   "cell_type": "code",
   "execution_count": 18,
   "metadata": {},
   "outputs": [],
   "source": [
    "c3d = ezc3d.c3d(file)"
   ]
  },
  {
   "cell_type": "code",
   "execution_count": 19,
   "metadata": {},
   "outputs": [],
   "source": [
    "num_points = c3d['parameters']['POINT']['USED']['value'][0]"
   ]
  },
  {
   "cell_type": "code",
   "execution_count": 20,
   "metadata": {},
   "outputs": [
    {
     "data": {
      "text/plain": [
       "45"
      ]
     },
     "execution_count": 20,
     "metadata": {},
     "output_type": "execute_result"
    }
   ],
   "source": [
    "num_points"
   ]
  },
  {
   "cell_type": "code",
   "execution_count": 21,
   "metadata": {},
   "outputs": [],
   "source": [
    "data = c3d['data']['points']"
   ]
  },
  {
   "cell_type": "code",
   "execution_count": 22,
   "metadata": {},
   "outputs": [
    {
     "name": "stdout",
     "output_type": "stream",
     "text": [
      "(4, 45, 34908)\n"
     ]
    }
   ],
   "source": [
    "print(data.shape)"
   ]
  },
  {
   "cell_type": "code",
   "execution_count": 7,
   "metadata": {},
   "outputs": [
    {
     "data": {
      "text/plain": [
       "139.775"
      ]
     },
     "execution_count": 7,
     "metadata": {},
     "output_type": "execute_result"
    }
   ],
   "source": [
    "33546/240"
   ]
  },
  {
   "cell_type": "code",
   "execution_count": 23,
   "metadata": {},
   "outputs": [
    {
     "data": {
      "text/plain": [
       "45"
      ]
     },
     "execution_count": 23,
     "metadata": {},
     "output_type": "execute_result"
    }
   ],
   "source": [
    "len(c3d['parameters']['POINT']['LABELS']['value'])\n"
   ]
  },
  {
   "cell_type": "code",
   "execution_count": 24,
   "metadata": {},
   "outputs": [
    {
     "data": {
      "text/plain": [
       "{'type': -1,\n",
       " 'description': 'Marker labels',\n",
       " 'is_locked': False,\n",
       " 'value': ['Unlabeled_16770',\n",
       "  'Unlabeled_16771',\n",
       "  'Unlabeled_16772',\n",
       "  'Unlabeled_16773',\n",
       "  'Praneeth:CLAV',\n",
       "  'Praneeth:T10',\n",
       "  'Praneeth:LPSI',\n",
       "  'Praneeth:RPSI',\n",
       "  'Praneeth:C7',\n",
       "  'Praneeth:LFHD',\n",
       "  'Praneeth:STRN',\n",
       "  'Praneeth:RBAK',\n",
       "  'Praneeth:LASI',\n",
       "  'Praneeth:RASI',\n",
       "  'Praneeth:RSHO',\n",
       "  'Praneeth:RELB',\n",
       "  'Praneeth:LWRB',\n",
       "  'Praneeth:LWRA',\n",
       "  'Praneeth:RFIN',\n",
       "  'Praneeth:RWRB',\n",
       "  'Praneeth:RUPA',\n",
       "  'Praneeth:RFRM',\n",
       "  'Praneeth:RBHD',\n",
       "  'Praneeth:LSHO',\n",
       "  'Praneeth:RFHD',\n",
       "  'Praneeth:LBHD',\n",
       "  'Praneeth:LFRM',\n",
       "  'Praneeth:LFIN',\n",
       "  'Praneeth:LELB',\n",
       "  'Praneeth:LUPA',\n",
       "  'Praneeth:RTIB',\n",
       "  'Praneeth:RTOE',\n",
       "  'Praneeth:RTHI',\n",
       "  'Praneeth:RANK',\n",
       "  'Praneeth:RHEE',\n",
       "  'Praneeth:LTHI',\n",
       "  'Praneeth:LANK',\n",
       "  'Praneeth:RWRA',\n",
       "  'Praneeth:LKNE',\n",
       "  'Praneeth:LHEE',\n",
       "  'Praneeth:RKNE',\n",
       "  'Praneeth:LTIB',\n",
       "  'Praneeth:LTOE',\n",
       "  'ref:hilt',\n",
       "  'ref:tip']}"
      ]
     },
     "execution_count": 24,
     "metadata": {},
     "output_type": "execute_result"
    }
   ],
   "source": [
    "c3d['parameters']['POINT']['LABELS']"
   ]
  },
  {
   "cell_type": "code",
   "execution_count": 10,
   "metadata": {},
   "outputs": [
    {
     "name": "stdout",
     "output_type": "stream",
     "text": [
      "Analog channel names:\n"
     ]
    }
   ],
   "source": [
    "analog = c3d['parameters']['ANALOG']\n",
    "analog_names = analog['LABELS']['value']\n",
    "print(\"Analog channel names:\")\n",
    "for name in analog_names:\n",
    "    print(name)"
   ]
  }
 ],
 "metadata": {
  "kernelspec": {
   "display_name": "soma3",
   "language": "python",
   "name": "python3"
  },
  "language_info": {
   "codemirror_mode": {
    "name": "ipython",
    "version": 3
   },
   "file_extension": ".py",
   "mimetype": "text/x-python",
   "name": "python",
   "nbconvert_exporter": "python",
   "pygments_lexer": "ipython3",
   "version": "3.7.16"
  },
  "orig_nbformat": 4
 },
 "nbformat": 4,
 "nbformat_minor": 2
}
