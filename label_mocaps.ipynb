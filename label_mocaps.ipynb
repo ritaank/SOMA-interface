{
 "cells": [
  {
   "attachments": {},
   "cell_type": "markdown",
   "metadata": {},
   "source": [
    "## Using SOMA to label unlabeled mocaps\n",
    "\n",
    "We roughly base this off of the two SOMA tutorials: [Tutorial 1](https://github.com/nghorbani/soma/blob/main/src/tutorials/run_soma_on_soma_dataset.ipynb) and [Tutorial 2](https://github.com/nghorbani/soma/blob/main/src/tutorials/label_priming.ipynb).\n",
    "\n",
    "Reading the [definitions](https://github.com/nghorbani/soma/tree/main/src/tutorials#definitions) of terminology is recommended.\n",
    "\n",
    "We will be using a pre-trained SOMA model called the \"SuperSet\" to label our unlabeled motioin capture data. The SuperSet trains a body model with 89 markers placed around the body, and thus will label our unlabeled mocap data by matching our unlabeled markers to a subset of the 89 markers. If we have an unlabeled marker that does not correspond to a marker on the SuperSet, the behavior is undefined -- either that marker will be unlabeled (marked as ghost points/discarded), or it will be labelled with some nearby marker label. This imperfect labelling can lead to downstream errors when trying to fit the SMPL model to the labelled mocap data.\n",
    "\n",
    "It is possible to train a new SOMA model, for a different marker layout (specifically a marker layout that does not fit a subset of the SuperSet), please check this [README](https://github.com/nghorbani/soma/tree/main/src/tutorials/README.md) and [Tutorial 1](https://github.com/nghorbani/soma/blob/main/src/tutorials/run_soma_on_soma_dataset.ipynb) for information on this. As per the note in Tutorial 1:\n",
    "\n",
    "\n",
    ">Due to licensing restrictions we cannot release the AMASS marker noise model and the CAESAR beta parameters.\n",
    ">\n",
    ">In an ablative study in the paper, we have shown that these parameters improve the performance SOMA. So without them it might be that the model you train would be underperforming\n",
    ">\n",
    "\n",
    "Thus it is more effective to use the pretrained models. As such, we will not be covering model training in this tutorial.\n",
    "\n",
    "Conceptually, this is how the SOMA training works (see [this paper](https://arxiv.org/pdf/2110.04431.pdf) for more details):\n",
    "- Goal: to label unlabeled mocap data for a specific *markerlayout*\n",
    "- First, we take a single frame from a single trial of our unlabeled mocap data\n",
    "  - one frame needed per subject, since each subject has a unique body -- and thus unique markerlayouts/point clouds -- thus a unique body model\n",
    "- This frame is labelled\n",
    "- This labelled frame is MoSHed to get a SMPL-X body model for that specific subject\n",
    "- virtual markers corresponding to our markerlayout are automotically placed on this SMPL-X body\n",
    "- This SMPL body model is animated by AMASS motions\n",
    "  - AMASS dataset has many actions saved in SMPL format, which allows us to have our subject-specific body-model 'perform' many actions\n",
    "  - Our markerlayout remains on the body model as these actions are performed\n",
    "- Thus a large repository of labeled mocap data is synthesized, data which is specific to our subject and our markerlayout\n",
    "- Real noise data is added to this synthetic data\n",
    "- occlusions and ghost points also added\n",
    "- SOMA model is trained on this synthetic data, where the model is given the input of a synthetic unlabeled point cloud and learns to output the corresponding labels\n",
    "- Transformers with multiple self-attention units are used to learn the spatial structure of the 3d body, as well as an optimal transport layer to encode the natural constraints of the human body."
   ]
  },
  {
   "attachments": {},
   "cell_type": "markdown",
   "metadata": {},
   "source": [
    "### Environment Check and Imports"
   ]
  },
  {
   "cell_type": "code",
   "execution_count": 3,
   "metadata": {},
   "outputs": [],
   "source": [
    "# If this doesn't work, something is wrong with the conda environment. Check conda-env.md\n",
    "import soma\n",
    "import psbody\n",
    "import moshpp"
   ]
  },
  {
   "cell_type": "code",
   "execution_count": 4,
   "metadata": {},
   "outputs": [],
   "source": [
    "import os\n",
    "import os.path as osp\n",
    "import time\n",
    "\n",
    "from loguru import logger\n",
    "\n",
    "from soma.tools.run_soma_multiple import run_soma_on_multiple_settings\n"
   ]
  },
  {
   "attachments": {},
   "cell_type": "markdown",
   "metadata": {},
   "source": [
    "### Configuration Files\n",
    "\n",
    "SOMA uses OmegaConf for configuration of each run. You can change every value of the configuration inside this notebook, so you do not need to change the YAML file, unless you want to change the default value for future cases."
   ]
  },
  {
   "cell_type": "code",
   "execution_count": 11,
   "metadata": {},
   "outputs": [],
   "source": [
    "def get_soma_conf_file():\n",
    "    '''\n",
    "    Prints path of soma_run_conf.yaml to inspect exact configuration settings\n",
    "    '''\n",
    "    import soma\n",
    "    init_path = osp.join(soma.__file__)\n",
    "    base_path = osp.dirname(osp.dirname(osp.dirname(init_path)))\n",
    "    conf_path = osp.join(base_path, 'support_data', 'conf', 'soma_run_conf.yaml')\n",
    "\n",
    "    return conf_path"
   ]
  },
  {
   "cell_type": "code",
   "execution_count": 12,
   "metadata": {},
   "outputs": [
    {
     "data": {
      "text/plain": [
       "'/home/ritaank/Documents/dev/motion_synthesis/soma-root-2/soma/support_data/conf/soma_run_conf.yaml'"
      ]
     },
     "execution_count": 12,
     "metadata": {},
     "output_type": "execute_result"
    }
   ],
   "source": [
    "get_soma_conf_file()"
   ]
  },
  {
   "attachments": {},
   "cell_type": "markdown",
   "metadata": {},
   "source": [
    "### Args for run_soma_on_multiple_settings:\n",
    "    soma_expr_ids: list of soma experiment ids\n",
    "    soma_mocap_target_ds_names: target dataset names, these should be available at mocap_base_dir\n",
    "    soma_data_ids: data ids of some experiments\n",
    "    tracklet_labeling_options: whether to use tracklet labeling\n",
    "    ds_name_gt: gt mocap data for labeling evaluation\n",
    "    soma_cfg: overloading soma_run_conf.yaml\n",
    "    mosh_cfg: overloading moshpp_conf.yaml inside mosh code\n",
    "    render_cfg: overload render_conf.yaml\n",
    "    eval_label_cfg: eval_label.yaml\n",
    "    parallel_cfg: relevant for use on IS cluster\n",
    "    fast_dev_run: if True will run for a limited number of mocaps\n",
    "    run_tasks: a selection of ['soma', 'mosh', 'render', 'eval_label']\n",
    "    mocap_ext: file extension of the source mocap point clouds\n",
    "    mosh_stagei_perseq: if True stage-i of mosh will run for every sequence instead of every subject\n",
    "    fname_filter: List of strings to filter the source mocaps\n",
    "    mocap_base_dir: base directory for source mocaps\n",
    "    gt_mosh_base_dir: directory holding mosh results of the gt mocaps, used for v2v evaluation\n",
    "    soma_work_base_dir: base directory for soma data. this directory holds: data, training_experiments, support_data\n",
    "    **kwargs:"
   ]
  },
  {
   "cell_type": "code",
   "execution_count": null,
   "metadata": {},
   "outputs": [],
   "source": [
    "soma_work_base_dir = os.getcwd() # TODO: we will need to change working directory to subdir\n",
    "support_base_dir = osp.join(soma_work_base_dir, 'support_files')\n",
    "\n",
    "mocap_base_dir = osp.join(support_base_dir, 'evaluation_mocaps/original')\n",
    "timestr = time.strftime(\"%Y%m%d-%H%M%S\")"
   ]
  },
  {
   "cell_type": "code",
   "execution_count": null,
   "metadata": {},
   "outputs": [],
   "source": [
    "# The name of the folder of the unlabeled mocap data\n",
    "# Change to the folder you want to label\n",
    "data_source = 'immersion_test'\n",
    "\n",
    "# The name of the subject, for folder naming purposes\n",
    "# Not necessary to change; the outputs will be in a folder with this name + the time\n",
    "subject_name = 'subjectA'"
   ]
  },
  {
   "cell_type": "code",
   "execution_count": null,
   "metadata": {},
   "outputs": [],
   "source": [
    "run_soma_on_multiple_settings(\n",
    "        soma_expr_ids=[\n",
    "            'V48_02_SuperSet', # the model we are using\n",
    "        ],\n",
    "        soma_mocap_target_ds_names=[\n",
    "            data_source,\n",
    "        ],\n",
    "        soma_data_ids=[\n",
    "            # TODO: what do these numbers mean\n",
    "            'OC_05_G_03_real_000_synt_100',\n",
    "        ],\n",
    "        soma_cfg={\n",
    "            'mocap.subject_name' : f'{args.subject_name}_{timestr}',\n",
    "            'soma.batch_size': 256,\n",
    "            'dirs.support_base_dir':support_base_dir,\n",
    "            'mocap.unit': 'mm',\n",
    "            'save_c3d': True,\n",
    "            # 'keep_nan_points': True,\n",
    "            'remove_zero_trajectories': True,\n",
    "            # 'mosh_stagei_perseq': True,\n",
    "        },\n",
    "        parallel_cfg={\n",
    "            # 'max_num_jobs': 5,\n",
    "            'randomly_run_jobs': True,\n",
    "        },\n",
    "        run_tasks=[\n",
    "            'soma',\n",
    "        ],\n",
    "        mocap_base_dir = mocap_base_dir,\n",
    "        soma_work_base_dir=soma_work_base_dir,\n",
    "        mocap_ext='.c3d' \n",
    "    )"
   ]
  }
 ],
 "metadata": {
  "kernelspec": {
   "display_name": "soma3",
   "language": "python",
   "name": "python3"
  },
  "language_info": {
   "codemirror_mode": {
    "name": "ipython",
    "version": 3
   },
   "file_extension": ".py",
   "mimetype": "text/x-python",
   "name": "python",
   "nbconvert_exporter": "python",
   "pygments_lexer": "ipython3",
   "version": "3.7.16"
  },
  "orig_nbformat": 4
 },
 "nbformat": 4,
 "nbformat_minor": 2
}
